{
  "nbformat": 4,
  "nbformat_minor": 0,
  "metadata": {
    "colab": {
      "provenance": []
    },
    "kernelspec": {
      "name": "python3",
      "display_name": "Python 3"
    },
    "language_info": {
      "name": "python"
    }
  },
  "cells": [
    {
      "cell_type": "code",
      "execution_count": 1,
      "metadata": {
        "id": "KfQz1GfDxieJ"
      },
      "outputs": [],
      "source": [
        "# Import Libraries\n",
        "import pandas as pd\n",
        "import numpy as np\n",
        "from sklearn.model_selection import train_test_split\n",
        "from sklearn.preprocessing import StandardScaler\n",
        "from sklearn.linear_model import LogisticRegression\n",
        "from xgboost import XGBClassifier\n",
        "from sklearn.metrics import accuracy_score, precision_score, recall_score, f1_score"
      ]
    },
    {
      "cell_type": "code",
      "source": [
        "# Load dataset\n",
        "url = \"https://archive.ics.uci.edu/ml/machine-learning-databases/breast-cancer-wisconsin/wdbc.data\"\n",
        "columns = ['ID', 'Diagnosis'] + [f'feature_{i}' for i in range(1, 31)]\n",
        "data = pd.read_csv(url, header=None, names=columns)\n",
        "print(data.head())"
      ],
      "metadata": {
        "colab": {
          "base_uri": "https://localhost:8080/"
        },
        "id": "KJGw7FFIxugb",
        "outputId": "e747b8c3-538c-4ab0-cdbc-820025639992"
      },
      "execution_count": 2,
      "outputs": [
        {
          "output_type": "stream",
          "name": "stdout",
          "text": [
            "         ID Diagnosis  feature_1  feature_2  feature_3  feature_4  feature_5  \\\n",
            "0    842302         M      17.99      10.38     122.80     1001.0    0.11840   \n",
            "1    842517         M      20.57      17.77     132.90     1326.0    0.08474   \n",
            "2  84300903         M      19.69      21.25     130.00     1203.0    0.10960   \n",
            "3  84348301         M      11.42      20.38      77.58      386.1    0.14250   \n",
            "4  84358402         M      20.29      14.34     135.10     1297.0    0.10030   \n",
            "\n",
            "   feature_6  feature_7  feature_8  ...  feature_21  feature_22  feature_23  \\\n",
            "0    0.27760     0.3001    0.14710  ...       25.38       17.33      184.60   \n",
            "1    0.07864     0.0869    0.07017  ...       24.99       23.41      158.80   \n",
            "2    0.15990     0.1974    0.12790  ...       23.57       25.53      152.50   \n",
            "3    0.28390     0.2414    0.10520  ...       14.91       26.50       98.87   \n",
            "4    0.13280     0.1980    0.10430  ...       22.54       16.67      152.20   \n",
            "\n",
            "   feature_24  feature_25  feature_26  feature_27  feature_28  feature_29  \\\n",
            "0      2019.0      0.1622      0.6656      0.7119      0.2654      0.4601   \n",
            "1      1956.0      0.1238      0.1866      0.2416      0.1860      0.2750   \n",
            "2      1709.0      0.1444      0.4245      0.4504      0.2430      0.3613   \n",
            "3       567.7      0.2098      0.8663      0.6869      0.2575      0.6638   \n",
            "4      1575.0      0.1374      0.2050      0.4000      0.1625      0.2364   \n",
            "\n",
            "   feature_30  \n",
            "0     0.11890  \n",
            "1     0.08902  \n",
            "2     0.08758  \n",
            "3     0.17300  \n",
            "4     0.07678  \n",
            "\n",
            "[5 rows x 32 columns]\n"
          ]
        }
      ]
    },
    {
      "cell_type": "code",
      "source": [
        "# Convert Diagnosis column to binary\n",
        "data['Diagnosis'] = data['Diagnosis'].map({'M': 1, 'B': 0})"
      ],
      "metadata": {
        "id": "EB46f0zPxxAs"
      },
      "execution_count": 3,
      "outputs": []
    },
    {
      "cell_type": "code",
      "source": [
        "# Split data into features and target\n",
        "X = data.drop(columns=['ID', 'Diagnosis'])\n",
        "y = data['Diagnosis']\n",
        "\n",
        "# Train-test split\n",
        "X_train, X_test, y_train, y_test = train_test_split(X, y, test_size=0.2, random_state=42)\n",
        "\n",
        "# Standardize features\n",
        "scaler = StandardScaler()\n",
        "X_train = scaler.fit_transform(X_train)\n",
        "X_test = scaler.transform(X_test)\n",
        "\n",
        "# Train XGBoost model\n",
        "model = XGBClassifier()\n",
        "model.fit(X_train, y_train)\n",
        "\n",
        "# Predictions\n",
        "y_pred = model.predict(X_test)"
      ],
      "metadata": {
        "id": "fJY0YZKXxzGw"
      },
      "execution_count": 4,
      "outputs": []
    },
    {
      "cell_type": "code",
      "source": [
        "# Evaluate model\n",
        "accuracy = accuracy_score(y_test, y_pred)\n",
        "precision = precision_score(y_test, y_pred)\n",
        "recall = recall_score(y_test, y_pred)\n",
        "f1 = f1_score(y_test, y_pred)\n",
        "\n",
        "print(f'Accuracy: {accuracy:.4f}')\n",
        "print(f'Precision: {precision:.4f}')\n",
        "print(f'Recall: {recall:.4f}')\n",
        "print(f'F1 Score: {f1:.4f}')"
      ],
      "metadata": {
        "colab": {
          "base_uri": "https://localhost:8080/"
        },
        "id": "8WmSHxzEyMqc",
        "outputId": "718adf5b-3505-46db-e49d-d6dc1514c315"
      },
      "execution_count": 5,
      "outputs": [
        {
          "output_type": "stream",
          "name": "stdout",
          "text": [
            "Accuracy: 0.9561\n",
            "Precision: 0.9524\n",
            "Recall: 0.9302\n",
            "F1 Score: 0.9412\n"
          ]
        }
      ]
    }
  ]
}